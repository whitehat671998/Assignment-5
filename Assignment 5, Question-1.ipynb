{
 "cells": [
  {
   "cell_type": "code",
   "execution_count": 2,
   "id": "d7b5f2b4",
   "metadata": {},
   "outputs": [
    {
     "name": "stdout",
     "output_type": "stream",
     "text": [
      "Enter the Nubmer :10\n",
      "Enter the Power :3\n",
      "1000\n"
     ]
    }
   ],
   "source": [
    "class POW:\n",
    "  def __init__(self):\n",
    "    self.val=0\n",
    "\n",
    "  def power_n(self,x,n):\n",
    "    self.val=x**n\n",
    "\n",
    "x=(int(input(\"Enter the Nubmer :\")))\n",
    "n=(int(input(\"Enter the Power :\")))\n",
    "\n",
    "p1=POW()\n",
    "p1.power_n(x,n)\n",
    "\n",
    "print(p1.val)"
   ]
  },
  {
   "cell_type": "code",
   "execution_count": null,
   "id": "66340e2b",
   "metadata": {},
   "outputs": [],
   "source": []
  }
 ],
 "metadata": {
  "kernelspec": {
   "display_name": "Python 3 (ipykernel)",
   "language": "python",
   "name": "python3"
  },
  "language_info": {
   "codemirror_mode": {
    "name": "ipython",
    "version": 3
   },
   "file_extension": ".py",
   "mimetype": "text/x-python",
   "name": "python",
   "nbconvert_exporter": "python",
   "pygments_lexer": "ipython3",
   "version": "3.9.12"
  }
 },
 "nbformat": 4,
 "nbformat_minor": 5
}
